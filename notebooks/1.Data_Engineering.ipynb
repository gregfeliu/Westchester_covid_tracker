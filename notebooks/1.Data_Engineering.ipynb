{
 "cells": [
  {
   "cell_type": "markdown",
   "metadata": {},
   "source": [
    "import numpy as np\n",
    "# ^^^ pyforest auto-imports - don't write above this line\n",
    "# Making features for future plotting"
   ]
  },
  {
   "cell_type": "markdown",
   "metadata": {},
   "source": [
    "## Imports"
   ]
  },
  {
   "cell_type": "code",
   "execution_count": 1,
   "metadata": {
    "ExecuteTime": {
     "end_time": "2021-02-11T21:21:12.323834Z",
     "start_time": "2021-02-11T21:21:11.875726Z"
    }
   },
   "outputs": [],
   "source": [
    "import pandas as pd"
   ]
  },
  {
   "cell_type": "code",
   "execution_count": 2,
   "metadata": {
    "ExecuteTime": {
     "end_time": "2021-02-11T21:21:12.888862Z",
     "start_time": "2021-02-11T21:21:12.325666Z"
    }
   },
   "outputs": [],
   "source": [
    "# from https://github.com/nytimes/covid-19-data\n",
    "## To update the images, update this repository on your local machine \n",
    "us_counties = pd.read_csv(\"../covid-19-data/us-counties.csv\", infer_datetime_format=True)"
   ]
  },
  {
   "cell_type": "markdown",
   "metadata": {},
   "source": [
    "## Westchester Data"
   ]
  },
  {
   "cell_type": "code",
   "execution_count": 3,
   "metadata": {
    "ExecuteTime": {
     "end_time": "2021-02-11T21:21:12.935558Z",
     "start_time": "2021-02-11T21:21:12.890738Z"
    }
   },
   "outputs": [],
   "source": [
    "westchester_data = us_counties[us_counties['county'] == 'Westchester'].copy()"
   ]
  },
  {
   "cell_type": "code",
   "execution_count": 4,
   "metadata": {
    "ExecuteTime": {
     "end_time": "2021-02-11T21:21:12.945369Z",
     "start_time": "2021-02-11T21:21:12.939871Z"
    }
   },
   "outputs": [],
   "source": [
    "westchester_data.drop(columns = 'fips', inplace=True)\n",
    "westchester_data.reset_index(inplace=True)"
   ]
  },
  {
   "cell_type": "markdown",
   "metadata": {},
   "source": [
    "## Scaling Cases Data"
   ]
  },
  {
   "cell_type": "code",
   "execution_count": 5,
   "metadata": {
    "ExecuteTime": {
     "end_time": "2021-02-11T21:21:12.955384Z",
     "start_time": "2021-02-11T21:21:12.949361Z"
    }
   },
   "outputs": [],
   "source": [
    "# pop of westchester is 967506\n",
    "westchester_pop = 967506\n",
    "scale_to_100k = westchester_pop / 100000\n",
    "westchester_data['total_cases_per_100k'] = westchester_data['cases'] / scale_to_100k"
   ]
  },
  {
   "cell_type": "markdown",
   "metadata": {},
   "source": [
    "### New cases per capita over past"
   ]
  },
  {
   "cell_type": "code",
   "execution_count": 6,
   "metadata": {
    "ExecuteTime": {
     "end_time": "2021-02-11T21:21:12.976697Z",
     "start_time": "2021-02-11T21:21:12.957652Z"
    }
   },
   "outputs": [
    {
     "data": {
      "application/javascript": [
       "\n",
       "        if (window._pyforest_update_imports_cell) { window._pyforest_update_imports_cell('import numpy as np'); }\n",
       "    "
      ],
      "text/plain": [
       "<IPython.core.display.Javascript object>"
      ]
     },
     "metadata": {},
     "output_type": "display_data"
    }
   ],
   "source": [
    "# new cases column\n",
    "new_cases = [westchester_data['total_cases_per_100k'][idx+1] - \n",
    "                              westchester_data['total_cases_per_100k'][idx] for idx in range(len(westchester_data)-1)]\n",
    "new_cases.append(np.nan)\n",
    "westchester_data['new_cases_per_cap'] = new_cases"
   ]
  },
  {
   "cell_type": "code",
   "execution_count": 7,
   "metadata": {
    "ExecuteTime": {
     "end_time": "2021-02-11T21:21:12.984166Z",
     "start_time": "2021-02-11T21:21:12.978971Z"
    }
   },
   "outputs": [],
   "source": [
    "# https://stackoverflow.com/questions/36969174/pandas-average-value-for-the-past-n-days\n",
    "westchester_data['new_cases_per_cap_past_7_days'] = \\\n",
    "westchester_data['new_cases_per_cap'].rolling(window=7, min_periods=0).sum()"
   ]
  },
  {
   "cell_type": "markdown",
   "metadata": {},
   "source": [
    "## Saving Data"
   ]
  },
  {
   "cell_type": "code",
   "execution_count": 8,
   "metadata": {
    "ExecuteTime": {
     "end_time": "2021-02-11T21:21:12.996229Z",
     "start_time": "2021-02-11T21:21:12.986311Z"
    }
   },
   "outputs": [],
   "source": [
    "westchester_cases = westchester_data.to_csv(\"westchester_coronavirus.csv\")"
   ]
  }
 ],
 "metadata": {
  "kernelspec": {
   "display_name": "Python [conda env:learn-env] *",
   "language": "python",
   "name": "conda-env-learn-env-py"
  },
  "language_info": {
   "codemirror_mode": {
    "name": "ipython",
    "version": 3
   },
   "file_extension": ".py",
   "mimetype": "text/x-python",
   "name": "python",
   "nbconvert_exporter": "python",
   "pygments_lexer": "ipython3",
   "version": "3.6.9"
  },
  "toc": {
   "base_numbering": 1,
   "nav_menu": {},
   "number_sections": true,
   "sideBar": true,
   "skip_h1_title": false,
   "title_cell": "Table of Contents",
   "title_sidebar": "Contents",
   "toc_cell": false,
   "toc_position": {},
   "toc_section_display": true,
   "toc_window_display": true
  },
  "varInspector": {
   "cols": {
    "lenName": 16,
    "lenType": 16,
    "lenVar": 40
   },
   "kernels_config": {
    "python": {
     "delete_cmd_postfix": "",
     "delete_cmd_prefix": "del ",
     "library": "var_list.py",
     "varRefreshCmd": "print(var_dic_list())"
    },
    "r": {
     "delete_cmd_postfix": ") ",
     "delete_cmd_prefix": "rm(",
     "library": "var_list.r",
     "varRefreshCmd": "cat(var_dic_list()) "
    }
   },
   "types_to_exclude": [
    "module",
    "function",
    "builtin_function_or_method",
    "instance",
    "_Feature"
   ],
   "window_display": false
  }
 },
 "nbformat": 4,
 "nbformat_minor": 2
}
